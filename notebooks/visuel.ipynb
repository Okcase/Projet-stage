{
 "cells": [
  {
   "cell_type": "code",
   "execution_count": 1,
   "id": "6d715c05-854d-4d88-90d9-6ca40666d564",
   "metadata": {},
   "outputs": [],
   "source": [
    "import os\n",
    "import json\n",
    "import random\n",
    "import requests\n",
    "\n",
    "from ipyleaflet import Map, GeoJSON\n",
    "\n",
    "# chemin pour accéder aux différents fichiers\n",
    "cwd = os.getcwd()\n",
    "data_dir = os.path.join(os.path.dirname(cwd), 'data')\n",
    "shp_dir = os.path.join(os.path.dirname(os.path.dirname(cwd)), 'Shapefile')"
   ]
  },
  {
   "cell_type": "code",
   "execution_count": 2,
   "id": "ef2016f3-4cdc-4553-bfdb-d26e3e19286a",
   "metadata": {},
   "outputs": [],
   "source": [
    "with open(os.path.join(data_dir, 'test.geojson'), 'r') as f:\n",
    "    data = json.load(f)\n",
    "\n",
    "def random_color(feature):\n",
    "    return{\n",
    "        'color' : 'black',\n",
    "        'fillColor' : random.choice(['red', 'yellow', 'green', 'orange'])\n",
    "    }\n",
    "\n",
    "my_map = Map(center = (50.6252978589571, 0.34580993652344), zoom = 3)\n",
    "\n",
    "geo_json = GeoJSON(data = data, style = {'opacity' : 1, 'dashArray' : '9', 'fillOpacity' : 0.1, 'weight' : 1}, \n",
    "                  hover_style = {'color' : 'white', 'dashArray' : '0', 'fillOpacity' : 0.5},\n",
    "                  style_callback = random_color)"
   ]
  },
  {
   "cell_type": "code",
   "execution_count": 3,
   "id": "6cd9f823-2743-461b-bdb9-bf4bf2267ad9",
   "metadata": {},
   "outputs": [
    {
     "data": {
      "application/vnd.jupyter.widget-view+json": {
       "model_id": "501ed44ff9c54ed7ac190ac7d5983b5d",
       "version_major": 2,
       "version_minor": 0
      },
      "text/plain": [
       "Map(center=[50.6252978589571, 0.34580993652344], controls=(ZoomControl(options=['position', 'zoom_in_text', 'z…"
      ]
     },
     "metadata": {},
     "output_type": "display_data"
    }
   ],
   "source": [
    "# my_map.add_layer(geo_json)\n",
    "\n",
    "my_map"
   ]
  },
  {
   "cell_type": "code",
   "execution_count": null,
   "id": "8f35edb2-0370-4539-88db-7179be975c1f",
   "metadata": {},
   "outputs": [],
   "source": []
  }
 ],
 "metadata": {
  "kernelspec": {
   "display_name": "Python 3",
   "language": "python",
   "name": "python3"
  },
  "language_info": {
   "codemirror_mode": {
    "name": "ipython",
    "version": 3
   },
   "file_extension": ".py",
   "mimetype": "text/x-python",
   "name": "python",
   "nbconvert_exporter": "python",
   "pygments_lexer": "ipython3",
   "version": "3.8.10"
  }
 },
 "nbformat": 4,
 "nbformat_minor": 5
}
