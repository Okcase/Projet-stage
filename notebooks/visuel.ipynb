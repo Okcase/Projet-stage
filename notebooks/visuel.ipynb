{
 "cells": [
  {
   "cell_type": "code",
   "execution_count": 1,
   "id": "6d715c05-854d-4d88-90d9-6ca40666d564",
   "metadata": {},
   "outputs": [],
   "source": [
    "import os\n",
    "import json\n",
    "import random\n",
    "import requests\n",
    "\n",
    "from ipyleaflet import Map, GeoJSON\n",
    "\n",
    "# chemin pour accéder aux différents fichiers\n",
    "cwd = os.getcwd()\n",
    "data_dir = os.path.join(os.path.dirname(cwd), 'data')\n",
    "shp_dir = os.path.join(os.path.dirname(os.path.dirname(cwd)), 'Shapefile')"
   ]
  },
  {
   "cell_type": "code",
   "execution_count": null,
   "id": "ef2016f3-4cdc-4553-bfdb-d26e3e19286a",
   "metadata": {},
   "outputs": [],
   "source": [
    "with open(os.path.join(data_dir, 'flandre.geojson'), 'r') as f:\n",
    "    data = json.load(f)\n",
    "\n",
    "def random_color(feature):\n",
    "    return{\n",
    "        'color' : 'black',\n",
    "        'fillColor' : random.choice(['red', 'yellow', 'green', 'orange'])\n",
    "    }\n",
    "\n",
    "my_map = Map(center = (50.6252978589571, 0.34580993652344), zoom = 3)\n",
    "\n",
    "geo_json = GeoJSON(data = data, style = {'opacity' : 1, 'dashArray' : '9', 'fillOpacity' : 0.1, 'weight' : 1}, \n",
    "                  hover_style = {'color' : 'white', 'dashArray' : '0', 'fillOpacity' : 0.5},\n",
    "                  style_callback = random_color)"
   ]
  },
  {
   "cell_type": "code",
   "execution_count": null,
   "id": "6cd9f823-2743-461b-bdb9-bf4bf2267ad9",
   "metadata": {},
   "outputs": [],
   "source": [
    "my_map.add_layer(geo_json)\n",
    "\n",
    "my_map"
   ]
  }
 ],
 "metadata": {
  "kernelspec": {
   "display_name": "Python 3",
   "language": "python",
   "name": "python3"
  },
  "language_info": {
   "codemirror_mode": {
    "name": "ipython",
    "version": 3
   },
   "file_extension": ".py",
   "mimetype": "text/x-python",
   "name": "python",
   "nbconvert_exporter": "python",
   "pygments_lexer": "ipython3",
   "version": "3.8.10"
  }
 },
 "nbformat": 4,
 "nbformat_minor": 5
}
