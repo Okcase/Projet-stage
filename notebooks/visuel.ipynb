{
 "cells": [
  {
   "cell_type": "code",
   "execution_count": 1,
   "id": "6d715c05-854d-4d88-90d9-6ca40666d564",
   "metadata": {},
   "outputs": [],
   "source": [
    "import os\n",
    "from ipyleaflet import Map, GeoJSON\n",
    "\n",
    "# chemin pour accéder aux différents fichiers\n",
    "cwd = os.getcwd()\n",
    "data_dir = os.path.join(os.path.dirname(cwd), 'data')\n",
    "shp_dir = os.path.join(os.path.dirname(os.path.dirname(cwd)), 'Shapefile')"
   ]
  },
  {
   "cell_type": "code",
   "execution_count": 2,
   "id": "ef2016f3-4cdc-4553-bfdb-d26e3e19286a",
   "metadata": {},
   "outputs": [
    {
     "data": {
      "application/vnd.jupyter.widget-view+json": {
       "model_id": "2e7e4093306942baaba901a0563e4b16",
       "version_major": 2,
       "version_minor": 0
      },
      "text/plain": [
       "Map(center=[0.0, 0.0], controls=(ZoomControl(options=['position', 'zoom_in_text', 'zoom_in_title', 'zoom_out_t…"
      ]
     },
     "metadata": {},
     "output_type": "display_data"
    }
   ],
   "source": [
    "my_map = Map(zoom = 1)\n",
    "my_map"
   ]
  },
  {
   "cell_type": "code",
   "execution_count": null,
   "id": "6cd9f823-2743-461b-bdb9-bf4bf2267ad9",
   "metadata": {},
   "outputs": [],
   "source": []
  }
 ],
 "metadata": {
  "kernelspec": {
   "display_name": "Python 3",
   "language": "python",
   "name": "python3"
  },
  "language_info": {
   "codemirror_mode": {
    "name": "ipython",
    "version": 3
   },
   "file_extension": ".py",
   "mimetype": "text/x-python",
   "name": "python",
   "nbconvert_exporter": "python",
   "pygments_lexer": "ipython3",
   "version": "3.8.10"
  }
 },
 "nbformat": 4,
 "nbformat_minor": 5
}
